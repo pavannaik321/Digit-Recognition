{
  "nbformat": 4,
  "nbformat_minor": 0,
  "metadata": {
    "colab": {
      "provenance": [],
      "authorship_tag": "ABX9TyNq3svdR+g+xAD5PhUFgPo7",
      "include_colab_link": true
    },
    "kernelspec": {
      "name": "python3",
      "display_name": "Python 3"
    },
    "language_info": {
      "name": "python"
    }
  },
  "cells": [
    {
      "cell_type": "markdown",
      "metadata": {
        "id": "view-in-github",
        "colab_type": "text"
      },
      "source": [
        "<a href=\"https://colab.research.google.com/github/pavannaik321/Digit-Recognition/blob/main/HandWrittienDigitRecognition.ipynb\" target=\"_parent\"><img src=\"https://colab.research.google.com/assets/colab-badge.svg\" alt=\"Open In Colab\"/></a>"
      ]
    },
    {
      "cell_type": "markdown",
      "source": [
        "##import Libraries"
      ],
      "metadata": {
        "id": "LmHfkDYWKqmh"
      }
    },
    {
      "cell_type": "code",
      "execution_count": 47,
      "metadata": {
        "id": "EM7joqvpJdQj"
      },
      "outputs": [],
      "source": [
        "#Handwritten Digit Recognition using LeNet-5 CNN Architecture on MNIST Digit Database\n",
        "import numpy as np\n",
        "import pandas as pd"
      ]
    },
    {
      "cell_type": "code",
      "source": [
        "from tensorflow.keras import datasets"
      ],
      "metadata": {
        "id": "NzTNIEZFKzoZ"
      },
      "execution_count": 48,
      "outputs": []
    },
    {
      "cell_type": "code",
      "source": [
        "(x_train , y_train) , (x_test , y_test) = datasets.mnist.load_data()"
      ],
      "metadata": {
        "id": "ehXWsSpLLDOc"
      },
      "execution_count": 49,
      "outputs": []
    },
    {
      "cell_type": "code",
      "source": [
        "x_train"
      ],
      "metadata": {
        "colab": {
          "base_uri": "https://localhost:8080/"
        },
        "id": "_3kgJJDoLUZS",
        "outputId": "6ecbff15-10fe-4896-b152-7cab1568910e"
      },
      "execution_count": 50,
      "outputs": [
        {
          "output_type": "execute_result",
          "data": {
            "text/plain": [
              "array([[[0, 0, 0, ..., 0, 0, 0],\n",
              "        [0, 0, 0, ..., 0, 0, 0],\n",
              "        [0, 0, 0, ..., 0, 0, 0],\n",
              "        ...,\n",
              "        [0, 0, 0, ..., 0, 0, 0],\n",
              "        [0, 0, 0, ..., 0, 0, 0],\n",
              "        [0, 0, 0, ..., 0, 0, 0]],\n",
              "\n",
              "       [[0, 0, 0, ..., 0, 0, 0],\n",
              "        [0, 0, 0, ..., 0, 0, 0],\n",
              "        [0, 0, 0, ..., 0, 0, 0],\n",
              "        ...,\n",
              "        [0, 0, 0, ..., 0, 0, 0],\n",
              "        [0, 0, 0, ..., 0, 0, 0],\n",
              "        [0, 0, 0, ..., 0, 0, 0]],\n",
              "\n",
              "       [[0, 0, 0, ..., 0, 0, 0],\n",
              "        [0, 0, 0, ..., 0, 0, 0],\n",
              "        [0, 0, 0, ..., 0, 0, 0],\n",
              "        ...,\n",
              "        [0, 0, 0, ..., 0, 0, 0],\n",
              "        [0, 0, 0, ..., 0, 0, 0],\n",
              "        [0, 0, 0, ..., 0, 0, 0]],\n",
              "\n",
              "       ...,\n",
              "\n",
              "       [[0, 0, 0, ..., 0, 0, 0],\n",
              "        [0, 0, 0, ..., 0, 0, 0],\n",
              "        [0, 0, 0, ..., 0, 0, 0],\n",
              "        ...,\n",
              "        [0, 0, 0, ..., 0, 0, 0],\n",
              "        [0, 0, 0, ..., 0, 0, 0],\n",
              "        [0, 0, 0, ..., 0, 0, 0]],\n",
              "\n",
              "       [[0, 0, 0, ..., 0, 0, 0],\n",
              "        [0, 0, 0, ..., 0, 0, 0],\n",
              "        [0, 0, 0, ..., 0, 0, 0],\n",
              "        ...,\n",
              "        [0, 0, 0, ..., 0, 0, 0],\n",
              "        [0, 0, 0, ..., 0, 0, 0],\n",
              "        [0, 0, 0, ..., 0, 0, 0]],\n",
              "\n",
              "       [[0, 0, 0, ..., 0, 0, 0],\n",
              "        [0, 0, 0, ..., 0, 0, 0],\n",
              "        [0, 0, 0, ..., 0, 0, 0],\n",
              "        ...,\n",
              "        [0, 0, 0, ..., 0, 0, 0],\n",
              "        [0, 0, 0, ..., 0, 0, 0],\n",
              "        [0, 0, 0, ..., 0, 0, 0]]], dtype=uint8)"
            ]
          },
          "metadata": {},
          "execution_count": 50
        }
      ]
    },
    {
      "cell_type": "code",
      "source": [
        "\n",
        "#the dataset is pre converted to 3 X 3 matix\n",
        "y_train"
      ],
      "metadata": {
        "colab": {
          "base_uri": "https://localhost:8080/"
        },
        "id": "ACDm-jQ7Lhc2",
        "outputId": "12cf58d2-9c43-4e12-bf4f-39495efe0b4e"
      },
      "execution_count": 51,
      "outputs": [
        {
          "output_type": "execute_result",
          "data": {
            "text/plain": [
              "array([5, 0, 4, ..., 5, 6, 8], dtype=uint8)"
            ]
          },
          "metadata": {},
          "execution_count": 51
        }
      ]
    },
    {
      "cell_type": "code",
      "source": [
        "#length of the datasets\n",
        "x_train.shape  , x_test.shape # we have to make it to 3 X 3\n",
        "# every image consist of width height and 3 RGB channel\n"
      ],
      "metadata": {
        "colab": {
          "base_uri": "https://localhost:8080/"
        },
        "id": "s3BH8PXcL9v8",
        "outputId": "a70db595-2fc2-4a02-d1ed-bfd70df27324"
      },
      "execution_count": 52,
      "outputs": [
        {
          "output_type": "execute_result",
          "data": {
            "text/plain": [
              "((60000, 28, 28), (10000, 28, 28))"
            ]
          },
          "metadata": {},
          "execution_count": 52
        }
      ]
    },
    {
      "cell_type": "code",
      "source": [
        "width , height = 28 , 28\n",
        "input_shape = (width , height , 1)\n",
        "\n",
        "input_shape"
      ],
      "metadata": {
        "colab": {
          "base_uri": "https://localhost:8080/"
        },
        "id": "vEMC61UpMc-C",
        "outputId": "2eb4ff10-6e42-44ff-dd25-fda1a3f6e595"
      },
      "execution_count": 53,
      "outputs": [
        {
          "output_type": "execute_result",
          "data": {
            "text/plain": [
              "(28, 28, 1)"
            ]
          },
          "metadata": {},
          "execution_count": 53
        }
      ]
    },
    {
      "cell_type": "code",
      "source": [
        "#reshaping the trainig data\n",
        "x_train = x_train.reshape(x_train.shape[0] , height , width , 1)\n",
        "x_test = x_test.reshape(x_test.shape[0] , height , width , 1)\n",
        "\n",
        "x_train.shape , y_train.shape  #now it is reshaped to 3 X 3\n",
        "# here the rgb channel is 1 because we are using grey scale(back and white)"
      ],
      "metadata": {
        "colab": {
          "base_uri": "https://localhost:8080/"
        },
        "id": "q_sQJZHmMptK",
        "outputId": "1453639b-e24d-423c-9f87-cf332930779a"
      },
      "execution_count": 54,
      "outputs": [
        {
          "output_type": "execute_result",
          "data": {
            "text/plain": [
              "((60000, 28, 28, 1), (60000,))"
            ]
          },
          "metadata": {},
          "execution_count": 54
        }
      ]
    },
    {
      "cell_type": "code",
      "source": [
        "from sklearn.model_selection import train_test_split\n",
        "x_train , x_val , y_train , y_val = train_test_split(x_train , y_train , test_size = 0.1)"
      ],
      "metadata": {
        "id": "e8pnrBXBQhOK"
      },
      "execution_count": 55,
      "outputs": []
    },
    {
      "cell_type": "code",
      "source": [
        "x_train.shape , len(x_train)"
      ],
      "metadata": {
        "colab": {
          "base_uri": "https://localhost:8080/"
        },
        "id": "dyg2CfPdTFjG",
        "outputId": "93c2bd73-67ed-413f-eaba-73668cd62a4b"
      },
      "execution_count": 56,
      "outputs": [
        {
          "output_type": "execute_result",
          "data": {
            "text/plain": [
              "((54000, 28, 28, 1), 54000)"
            ]
          },
          "metadata": {},
          "execution_count": 56
        }
      ]
    },
    {
      "cell_type": "code",
      "source": [
        "#normalize the data\n",
        "x_train = (x_train - x_train.mean()) / x_train.std()\n",
        "x_val = (x_val - x_val.mean()) / x_val.std()\n",
        "x_test = (x_test - x_test.mean()) / x_test.std()\n",
        "x_train"
      ],
      "metadata": {
        "colab": {
          "base_uri": "https://localhost:8080/"
        },
        "id": "vZ059VgcTWA1",
        "outputId": "15cd4687-8e71-4687-de70-931fa85a46e2"
      },
      "execution_count": 57,
      "outputs": [
        {
          "output_type": "execute_result",
          "data": {
            "text/plain": [
              "array([[[[-0.42416471],\n",
              "         [-0.42416471],\n",
              "         [-0.42416471],\n",
              "         ...,\n",
              "         [-0.42416471],\n",
              "         [-0.42416471],\n",
              "         [-0.42416471]],\n",
              "\n",
              "        [[-0.42416471],\n",
              "         [-0.42416471],\n",
              "         [-0.42416471],\n",
              "         ...,\n",
              "         [-0.42416471],\n",
              "         [-0.42416471],\n",
              "         [-0.42416471]],\n",
              "\n",
              "        [[-0.42416471],\n",
              "         [-0.42416471],\n",
              "         [-0.42416471],\n",
              "         ...,\n",
              "         [-0.42416471],\n",
              "         [-0.42416471],\n",
              "         [-0.42416471]],\n",
              "\n",
              "        ...,\n",
              "\n",
              "        [[-0.42416471],\n",
              "         [-0.42416471],\n",
              "         [-0.42416471],\n",
              "         ...,\n",
              "         [-0.42416471],\n",
              "         [-0.42416471],\n",
              "         [-0.42416471]],\n",
              "\n",
              "        [[-0.42416471],\n",
              "         [-0.42416471],\n",
              "         [-0.42416471],\n",
              "         ...,\n",
              "         [-0.42416471],\n",
              "         [-0.42416471],\n",
              "         [-0.42416471]],\n",
              "\n",
              "        [[-0.42416471],\n",
              "         [-0.42416471],\n",
              "         [-0.42416471],\n",
              "         ...,\n",
              "         [-0.42416471],\n",
              "         [-0.42416471],\n",
              "         [-0.42416471]]],\n",
              "\n",
              "\n",
              "       [[[-0.42416471],\n",
              "         [-0.42416471],\n",
              "         [-0.42416471],\n",
              "         ...,\n",
              "         [-0.42416471],\n",
              "         [-0.42416471],\n",
              "         [-0.42416471]],\n",
              "\n",
              "        [[-0.42416471],\n",
              "         [-0.42416471],\n",
              "         [-0.42416471],\n",
              "         ...,\n",
              "         [-0.42416471],\n",
              "         [-0.42416471],\n",
              "         [-0.42416471]],\n",
              "\n",
              "        [[-0.42416471],\n",
              "         [-0.42416471],\n",
              "         [-0.42416471],\n",
              "         ...,\n",
              "         [-0.42416471],\n",
              "         [-0.42416471],\n",
              "         [-0.42416471]],\n",
              "\n",
              "        ...,\n",
              "\n",
              "        [[-0.42416471],\n",
              "         [-0.42416471],\n",
              "         [-0.42416471],\n",
              "         ...,\n",
              "         [-0.42416471],\n",
              "         [-0.42416471],\n",
              "         [-0.42416471]],\n",
              "\n",
              "        [[-0.42416471],\n",
              "         [-0.42416471],\n",
              "         [-0.42416471],\n",
              "         ...,\n",
              "         [-0.42416471],\n",
              "         [-0.42416471],\n",
              "         [-0.42416471]],\n",
              "\n",
              "        [[-0.42416471],\n",
              "         [-0.42416471],\n",
              "         [-0.42416471],\n",
              "         ...,\n",
              "         [-0.42416471],\n",
              "         [-0.42416471],\n",
              "         [-0.42416471]]],\n",
              "\n",
              "\n",
              "       [[[-0.42416471],\n",
              "         [-0.42416471],\n",
              "         [-0.42416471],\n",
              "         ...,\n",
              "         [-0.42416471],\n",
              "         [-0.42416471],\n",
              "         [-0.42416471]],\n",
              "\n",
              "        [[-0.42416471],\n",
              "         [-0.42416471],\n",
              "         [-0.42416471],\n",
              "         ...,\n",
              "         [-0.42416471],\n",
              "         [-0.42416471],\n",
              "         [-0.42416471]],\n",
              "\n",
              "        [[-0.42416471],\n",
              "         [-0.42416471],\n",
              "         [-0.42416471],\n",
              "         ...,\n",
              "         [-0.42416471],\n",
              "         [-0.42416471],\n",
              "         [-0.42416471]],\n",
              "\n",
              "        ...,\n",
              "\n",
              "        [[-0.42416471],\n",
              "         [-0.42416471],\n",
              "         [-0.42416471],\n",
              "         ...,\n",
              "         [-0.42416471],\n",
              "         [-0.42416471],\n",
              "         [-0.42416471]],\n",
              "\n",
              "        [[-0.42416471],\n",
              "         [-0.42416471],\n",
              "         [-0.42416471],\n",
              "         ...,\n",
              "         [-0.42416471],\n",
              "         [-0.42416471],\n",
              "         [-0.42416471]],\n",
              "\n",
              "        [[-0.42416471],\n",
              "         [-0.42416471],\n",
              "         [-0.42416471],\n",
              "         ...,\n",
              "         [-0.42416471],\n",
              "         [-0.42416471],\n",
              "         [-0.42416471]]],\n",
              "\n",
              "\n",
              "       ...,\n",
              "\n",
              "\n",
              "       [[[-0.42416471],\n",
              "         [-0.42416471],\n",
              "         [-0.42416471],\n",
              "         ...,\n",
              "         [-0.42416471],\n",
              "         [-0.42416471],\n",
              "         [-0.42416471]],\n",
              "\n",
              "        [[-0.42416471],\n",
              "         [-0.42416471],\n",
              "         [-0.42416471],\n",
              "         ...,\n",
              "         [-0.42416471],\n",
              "         [-0.42416471],\n",
              "         [-0.42416471]],\n",
              "\n",
              "        [[-0.42416471],\n",
              "         [-0.42416471],\n",
              "         [-0.42416471],\n",
              "         ...,\n",
              "         [-0.42416471],\n",
              "         [-0.42416471],\n",
              "         [-0.42416471]],\n",
              "\n",
              "        ...,\n",
              "\n",
              "        [[-0.42416471],\n",
              "         [-0.42416471],\n",
              "         [-0.42416471],\n",
              "         ...,\n",
              "         [-0.42416471],\n",
              "         [-0.42416471],\n",
              "         [-0.42416471]],\n",
              "\n",
              "        [[-0.42416471],\n",
              "         [-0.42416471],\n",
              "         [-0.42416471],\n",
              "         ...,\n",
              "         [-0.42416471],\n",
              "         [-0.42416471],\n",
              "         [-0.42416471]],\n",
              "\n",
              "        [[-0.42416471],\n",
              "         [-0.42416471],\n",
              "         [-0.42416471],\n",
              "         ...,\n",
              "         [-0.42416471],\n",
              "         [-0.42416471],\n",
              "         [-0.42416471]]],\n",
              "\n",
              "\n",
              "       [[[-0.42416471],\n",
              "         [-0.42416471],\n",
              "         [-0.42416471],\n",
              "         ...,\n",
              "         [-0.42416471],\n",
              "         [-0.42416471],\n",
              "         [-0.42416471]],\n",
              "\n",
              "        [[-0.42416471],\n",
              "         [-0.42416471],\n",
              "         [-0.42416471],\n",
              "         ...,\n",
              "         [-0.42416471],\n",
              "         [-0.42416471],\n",
              "         [-0.42416471]],\n",
              "\n",
              "        [[-0.42416471],\n",
              "         [-0.42416471],\n",
              "         [-0.42416471],\n",
              "         ...,\n",
              "         [-0.42416471],\n",
              "         [-0.42416471],\n",
              "         [-0.42416471]],\n",
              "\n",
              "        ...,\n",
              "\n",
              "        [[-0.42416471],\n",
              "         [-0.42416471],\n",
              "         [-0.42416471],\n",
              "         ...,\n",
              "         [-0.42416471],\n",
              "         [-0.42416471],\n",
              "         [-0.42416471]],\n",
              "\n",
              "        [[-0.42416471],\n",
              "         [-0.42416471],\n",
              "         [-0.42416471],\n",
              "         ...,\n",
              "         [-0.42416471],\n",
              "         [-0.42416471],\n",
              "         [-0.42416471]],\n",
              "\n",
              "        [[-0.42416471],\n",
              "         [-0.42416471],\n",
              "         [-0.42416471],\n",
              "         ...,\n",
              "         [-0.42416471],\n",
              "         [-0.42416471],\n",
              "         [-0.42416471]]],\n",
              "\n",
              "\n",
              "       [[[-0.42416471],\n",
              "         [-0.42416471],\n",
              "         [-0.42416471],\n",
              "         ...,\n",
              "         [-0.42416471],\n",
              "         [-0.42416471],\n",
              "         [-0.42416471]],\n",
              "\n",
              "        [[-0.42416471],\n",
              "         [-0.42416471],\n",
              "         [-0.42416471],\n",
              "         ...,\n",
              "         [-0.42416471],\n",
              "         [-0.42416471],\n",
              "         [-0.42416471]],\n",
              "\n",
              "        [[-0.42416471],\n",
              "         [-0.42416471],\n",
              "         [-0.42416471],\n",
              "         ...,\n",
              "         [-0.42416471],\n",
              "         [-0.42416471],\n",
              "         [-0.42416471]],\n",
              "\n",
              "        ...,\n",
              "\n",
              "        [[-0.42416471],\n",
              "         [-0.42416471],\n",
              "         [-0.42416471],\n",
              "         ...,\n",
              "         [-0.42416471],\n",
              "         [-0.42416471],\n",
              "         [-0.42416471]],\n",
              "\n",
              "        [[-0.42416471],\n",
              "         [-0.42416471],\n",
              "         [-0.42416471],\n",
              "         ...,\n",
              "         [-0.42416471],\n",
              "         [-0.42416471],\n",
              "         [-0.42416471]],\n",
              "\n",
              "        [[-0.42416471],\n",
              "         [-0.42416471],\n",
              "         [-0.42416471],\n",
              "         ...,\n",
              "         [-0.42416471],\n",
              "         [-0.42416471],\n",
              "         [-0.42416471]]]])"
            ]
          },
          "metadata": {},
          "execution_count": 57
        }
      ]
    },
    {
      "cell_type": "code",
      "source": [
        "#categorize the data\n",
        "num_labels = 10 #number of labels\n",
        "\n",
        "# encoding the labels also\n",
        "from tensorflow import keras\n",
        "y_train = keras.utils.to_categorical(y_train)\n",
        "y_train"
      ],
      "metadata": {
        "colab": {
          "base_uri": "https://localhost:8080/"
        },
        "id": "KaYk9G4NTu0Z",
        "outputId": "5c65fff5-e487-46ed-b40f-cacb28e87101"
      },
      "execution_count": 58,
      "outputs": [
        {
          "output_type": "execute_result",
          "data": {
            "text/plain": [
              "array([[0., 0., 0., ..., 1., 0., 0.],\n",
              "       [0., 0., 1., ..., 0., 0., 0.],\n",
              "       [0., 0., 0., ..., 0., 0., 0.],\n",
              "       ...,\n",
              "       [0., 0., 0., ..., 0., 0., 0.],\n",
              "       [0., 0., 0., ..., 0., 0., 1.],\n",
              "       [0., 0., 0., ..., 0., 0., 0.]], dtype=float32)"
            ]
          },
          "metadata": {},
          "execution_count": 58
        }
      ]
    },
    {
      "cell_type": "code",
      "source": [
        "y_val = keras.utils.to_categorical(y_val)\n",
        "y_test = keras.utils.to_categorical(y_test)\n"
      ],
      "metadata": {
        "id": "eWS8ozBic3hO"
      },
      "execution_count": 59,
      "outputs": []
    },
    {
      "cell_type": "markdown",
      "source": [
        "##Models"
      ],
      "metadata": {
        "id": "zrZt9xUqdRR2"
      }
    },
    {
      "cell_type": "code",
      "source": [
        "from tensorflow.keras.models import Sequential\n",
        "from tensorflow.keras.layers import Dense , Dropout , Flatten ,Input , Conv2D , MaxPooling2D , AveragePooling2D"
      ],
      "metadata": {
        "id": "RxBE2ZC6dQ6b"
      },
      "execution_count": 60,
      "outputs": []
    },
    {
      "cell_type": "code",
      "source": [
        "#using traditional lenet 5 architecture\n",
        "model = Sequential()\n",
        "\n",
        "#feature extraction block\n",
        "model.add(Conv2D(6, kernel_size = (5,5) , strides = (1,1), activation = 'tanh' , input_shape = (28,28,1)))\n",
        "model.add(AveragePooling2D(pool_size = (2,2) , strides = (1 ,1)))\n",
        "model.add(Conv2D(16, kernel_size = (5,5) , strides = (1,1), activation = 'tanh' )) # 16 represent the number of neurons\n",
        "model.add(AveragePooling2D(pool_size = (2,2) , strides = (2 ,2)))\n",
        "model.add(Conv2D(120, kernel_size = (5,5) , strides = (1,1), activation = 'tanh'))\n",
        "# above is the 5 layers\n",
        "\n",
        "model.add(Flatten())\n",
        "model.add(Dense(84, activation = 'tanh'))\n",
        "model.add(Dense(num_labels , activation = 'softmax'))\n"
      ],
      "metadata": {
        "id": "08MM5cQody9n"
      },
      "execution_count": 61,
      "outputs": []
    },
    {
      "cell_type": "code",
      "source": [
        "model.summary()"
      ],
      "metadata": {
        "colab": {
          "base_uri": "https://localhost:8080/"
        },
        "id": "318wxSqFgTwy",
        "outputId": "5c3d0134-98c3-4af6-b27f-95ad3840f466"
      },
      "execution_count": 62,
      "outputs": [
        {
          "output_type": "stream",
          "name": "stdout",
          "text": [
            "Model: \"sequential_4\"\n",
            "_________________________________________________________________\n",
            " Layer (type)                Output Shape              Param #   \n",
            "=================================================================\n",
            " conv2d_5 (Conv2D)           (None, 24, 24, 6)         156       \n",
            "                                                                 \n",
            " average_pooling2d_2 (Avera  (None, 23, 23, 6)         0         \n",
            " gePooling2D)                                                    \n",
            "                                                                 \n",
            " conv2d_6 (Conv2D)           (None, 19, 19, 16)        2416      \n",
            "                                                                 \n",
            " average_pooling2d_3 (Avera  (None, 9, 9, 16)          0         \n",
            " gePooling2D)                                                    \n",
            "                                                                 \n",
            " conv2d_7 (Conv2D)           (None, 5, 5, 120)         48120     \n",
            "                                                                 \n",
            " flatten_1 (Flatten)         (None, 3000)              0         \n",
            "                                                                 \n",
            " dense_2 (Dense)             (None, 84)                252084    \n",
            "                                                                 \n",
            " dense_3 (Dense)             (None, 10)                850       \n",
            "                                                                 \n",
            "=================================================================\n",
            "Total params: 303626 (1.16 MB)\n",
            "Trainable params: 303626 (1.16 MB)\n",
            "Non-trainable params: 0 (0.00 Byte)\n",
            "_________________________________________________________________\n"
          ]
        }
      ]
    },
    {
      "cell_type": "code",
      "source": [
        "model.compile(loss = keras.losses.categorical_crossentropy , optimizer = 'adam' , metrics = ['accuracy'])"
      ],
      "metadata": {
        "id": "7PRPGu1Dgo-C"
      },
      "execution_count": 63,
      "outputs": []
    },
    {
      "cell_type": "code",
      "source": [
        "history = model.fit(x_train , y_train , batch_size = 32, epochs = 5 , verbose = 1 , validation_data = (x_val , y_val))  # if we are putting verbos 0 the we will not be able to see the details below"
      ],
      "metadata": {
        "colab": {
          "base_uri": "https://localhost:8080/"
        },
        "id": "NDehDvd0g3lc",
        "outputId": "8da0fb99-5763-4198-d6a1-3e4d5f0993d5"
      },
      "execution_count": 65,
      "outputs": [
        {
          "output_type": "stream",
          "name": "stdout",
          "text": [
            "Epoch 1/5\n",
            "1688/1688 [==============================] - 69s 41ms/step - loss: 0.0629 - accuracy: 0.9808 - val_loss: 0.0723 - val_accuracy: 0.9778\n",
            "Epoch 2/5\n",
            "1688/1688 [==============================] - 68s 40ms/step - loss: 0.0572 - accuracy: 0.9825 - val_loss: 0.0720 - val_accuracy: 0.9798\n",
            "Epoch 3/5\n",
            "1688/1688 [==============================] - 75s 44ms/step - loss: 0.0608 - accuracy: 0.9817 - val_loss: 0.0711 - val_accuracy: 0.9787\n",
            "Epoch 4/5\n",
            "1688/1688 [==============================] - 76s 45ms/step - loss: 0.0535 - accuracy: 0.9837 - val_loss: 0.0588 - val_accuracy: 0.9832\n",
            "Epoch 5/5\n",
            "1688/1688 [==============================] - 72s 42ms/step - loss: 0.0486 - accuracy: 0.9849 - val_loss: 0.0758 - val_accuracy: 0.9778\n"
          ]
        }
      ]
    },
    {
      "cell_type": "code",
      "source": [
        "score = model.evaluate(x_test, y_test ,verbose = 1)"
      ],
      "metadata": {
        "colab": {
          "base_uri": "https://localhost:8080/"
        },
        "id": "iPkh1nqHn3LX",
        "outputId": "7c8c5a80-4b4f-4764-b13d-43c1fa1d8743"
      },
      "execution_count": 70,
      "outputs": [
        {
          "output_type": "stream",
          "name": "stdout",
          "text": [
            "313/313 [==============================] - 3s 10ms/step - loss: 0.0590 - accuracy: 0.9798\n"
          ]
        }
      ]
    },
    {
      "cell_type": "code",
      "source": [
        "score[1]*100"
      ],
      "metadata": {
        "colab": {
          "base_uri": "https://localhost:8080/"
        },
        "id": "BE2qBoY3oNKn",
        "outputId": "5229706f-0586-4a07-ca54-150ccffc01a8"
      },
      "execution_count": 74,
      "outputs": [
        {
          "output_type": "execute_result",
          "data": {
            "text/plain": [
              "97.97999858856201"
            ]
          },
          "metadata": {},
          "execution_count": 74
        }
      ]
    }
  ]
}